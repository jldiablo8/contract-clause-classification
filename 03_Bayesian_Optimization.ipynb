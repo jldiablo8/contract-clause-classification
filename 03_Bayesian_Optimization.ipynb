{
 "cells": [
  {
   "cell_type": "code",
   "execution_count": null,
   "id": "5bf3c638-67a3-4ceb-aeed-827a0d274ce7",
   "metadata": {},
   "outputs": [],
   "source": [
    "# === 1. Imports ===\n",
    "from skopt import BayesSearchCV\n",
    "from sklearn.model_selection import StratifiedKFold\n",
    "from sklearn.svm import SVC\n",
    "\n",
    "# === 2. Define Search Space ===\n",
    "param_space = {\n",
    "    'C': (1e-3, 1e3, 'log-uniform'),\n",
    "    'gamma': (1e-4, 1e-1, 'log-uniform'),\n",
    "    'kernel': ['rbf', 'poly', 'sigmoid']\n",
    "}\n",
    "\n",
    "# === 3. Bayesian Optimization Setup ===\n",
    "opt = BayesSearchCV(\n",
    "    estimator=SVC(),\n",
    "    search_spaces=param_space,\n",
    "    n_iter=25,\n",
    "    cv=StratifiedKFold(n_splits=3),\n",
    "    scoring='accuracy',\n",
    "    random_state=42,\n",
    "    n_jobs=-1\n",
    ")\n",
    "\n",
    "# === 4. Run Optimization ===\n",
    "opt.fit(X_train, y_train)\n",
    "\n",
    "print(\"Best Parameters:\")\n",
    "print(opt.best_params_)\n",
    "print(\"Best Accuracy:\", opt.best_score_)\n",
    "\n",
    "# === 5. Evaluate Best Model ===\n",
    "y_pred = opt.predict(X_test)\n",
    "\n",
    "print(\"Classification Report (Optimized Model):\")\n",
    "print(classification_report(y_test, y_pred, target_names=le.classes_))\n",
    "\n",
    "cm = confusion_matrix(y_test, y_pred)\n",
    "disp = ConfusionMatrixDisplay(confusion_matrix=cm, display_labels=le.classes_)\n",
    "disp.plot(xticks_rotation=45)\n",
    "plt.title(\"Confusion Matrix (Optimized)\")\n",
    "plt.show()\n"
   ]
  }
 ],
 "metadata": {
  "kernelspec": {
   "display_name": "Python 3 (ipykernel)",
   "language": "python",
   "name": "python3"
  },
  "language_info": {
   "codemirror_mode": {
    "name": "ipython",
    "version": 3
   },
   "file_extension": ".py",
   "mimetype": "text/x-python",
   "name": "python",
   "nbconvert_exporter": "python",
   "pygments_lexer": "ipython3",
   "version": "3.12.7"
  }
 },
 "nbformat": 4,
 "nbformat_minor": 5
}
